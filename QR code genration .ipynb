{
 "cells": [
  {
   "cell_type": "code",
   "execution_count": null,
   "metadata": {},
   "outputs": [],
   "source": [
    "import qrcode\n",
    "import cv2\n",
    "q = qrcode.QRCode(version = 1,box_size = 20, border = 5)\n",
    "\n",
    "from tkinter import*\n",
    "\n",
    "root =Tk()\n",
    "root.geometry(\"400x350\")\n",
    "root.title(\"VB QR Code Generation\")\n",
    "\n",
    "def Genrate():\n",
    "    q = qrcode.QRCode(version = 1,box_size = 20, border = 5)\n",
    "    name = var.get()\n",
    "    root.update()\n",
    "    q.add_data(name)\n",
    "    img = q.make_image(fill = 'black', black_color = 'white')\n",
    "    img1 = img_name.get()\n",
    "    root.update()\n",
    "    path = var1.get()\n",
    "    root.update()\n",
    "    img.save(path +\"/\"+ img1 + \".jpg\")\n",
    "\n",
    "\n",
    "Label(root, text = \"Welcome to QRCode \\n Generation  Application\",font = \"Consolas 15 bold\").pack()\n",
    "Label(root, text = 'By \\n Vinayak M Boormane', font =('Verdana', 15)).pack(side = BOTTOM, pady = 10)\n",
    "var = StringVar()\n",
    "var.set(\"Enter link or text for qr\")\n",
    "Entry(root, textvariable = var, width = 40).pack(pady= 10)\n",
    "var1 = StringVar()\n",
    "var1.set(\"Enter path for folder\")\n",
    "Entry(root, textvariable = var1, width = 40).pack(pady= 10)\n",
    "img_name = StringVar()\n",
    "img_name.set(\"Enter the name of image\")\n",
    "Entry(root, textvariable = img_name, width = 40).pack(pady= 10)\n",
    "Button(root, text = \"Generate\", command = Genrate).pack()\n",
    "\n",
    "root.mainloop()"
   ]
  },
  {
   "cell_type": "code",
   "execution_count": null,
   "metadata": {},
   "outputs": [],
   "source": []
  }
 ],
 "metadata": {
  "kernelspec": {
   "display_name": "Python 3",
   "language": "python",
   "name": "python3"
  },
  "language_info": {
   "codemirror_mode": {
    "name": "ipython",
    "version": 3
   },
   "file_extension": ".py",
   "mimetype": "text/x-python",
   "name": "python",
   "nbconvert_exporter": "python",
   "pygments_lexer": "ipython3",
   "version": "3.7.6"
  }
 },
 "nbformat": 4,
 "nbformat_minor": 4
}
